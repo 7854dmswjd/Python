{
  "nbformat": 4,
  "nbformat_minor": 0,
  "metadata": {
    "colab": {
      "name": "u33_ScopeRule.ipynb",
      "provenance": [],
      "authorship_tag": "ABX9TyO3Wj5DBwdcFprb8M+CvCuF",
      "include_colab_link": true
    },
    "kernelspec": {
      "name": "python3",
      "display_name": "Python 3"
    },
    "language_info": {
      "name": "python"
    }
  },
  "cells": [
    {
      "cell_type": "markdown",
      "metadata": {
        "id": "view-in-github",
        "colab_type": "text"
      },
      "source": [
        "<a href=\"https://colab.research.google.com/github/7854dmswjd/Python/blob/main/u33_ScopeRule.ipynb\" target=\"_parent\"><img src=\"https://colab.research.google.com/assets/colab-badge.svg\" alt=\"Open In Colab\"/></a>"
      ]
    },
    {
      "cell_type": "markdown",
      "metadata": {
        "id": "AJCuNwdUrqN8"
      },
      "source": [
        "# Unit 33. 변수의 사용 범위 (scope rule)"
      ]
    },
    {
      "cell_type": "code",
      "metadata": {
        "colab": {
          "base_uri": "https://localhost:8080/"
        },
        "id": "4vzGN6_SrlJT",
        "outputId": "44baacb9-e67a-4b5c-e4ff-dfcc754fa206"
      },
      "source": [
        "x = 10                          #전역 변수 \n",
        "def foo():\n",
        "  print(x)\n",
        "foo()\n",
        "print(x)"
      ],
      "execution_count": 1,
      "outputs": [
        {
          "output_type": "stream",
          "text": [
            "10\n",
            "10\n"
          ],
          "name": "stdout"
        }
      ]
    },
    {
      "cell_type": "code",
      "metadata": {
        "colab": {
          "base_uri": "https://localhost:8080/"
        },
        "id": "zsjfpBpWsD6u",
        "outputId": "4cb93978-81f6-412f-8713-9177cbfe4939"
      },
      "source": [
        "def foo():\n",
        "  y = 10           # 지역 변수\n",
        "  print(y)\n",
        "foo()"
      ],
      "execution_count": 2,
      "outputs": [
        {
          "output_type": "stream",
          "text": [
            "10\n"
          ],
          "name": "stdout"
        }
      ]
    },
    {
      "cell_type": "code",
      "metadata": {
        "colab": {
          "base_uri": "https://localhost:8080/",
          "height": 174
        },
        "id": "YqDuvmcusWnp",
        "outputId": "560d5167-0d04-4219-ad90-daa2d3843a04"
      },
      "source": [
        "print(y)          # foo함수의 로컬 변수이므로 foo함수 안에서만 해당 변수를 이용할 수 있다."
      ],
      "execution_count": 3,
      "outputs": [
        {
          "output_type": "error",
          "ename": "NameError",
          "evalue": "ignored",
          "traceback": [
            "\u001b[0;31m---------------------------------------------------------------------------\u001b[0m",
            "\u001b[0;31mNameError\u001b[0m                                 Traceback (most recent call last)",
            "\u001b[0;32m<ipython-input-3-d9183e048de3>\u001b[0m in \u001b[0;36m<module>\u001b[0;34m()\u001b[0m\n\u001b[0;32m----> 1\u001b[0;31m \u001b[0mprint\u001b[0m\u001b[0;34m(\u001b[0m\u001b[0my\u001b[0m\u001b[0;34m)\u001b[0m\u001b[0;34m\u001b[0m\u001b[0;34m\u001b[0m\u001b[0m\n\u001b[0m",
            "\u001b[0;31mNameError\u001b[0m: name 'y' is not defined"
          ]
        }
      ]
    },
    {
      "cell_type": "markdown",
      "metadata": {
        "id": "CPXX2WxVttMA"
      },
      "source": [
        "###함수 안에서 전역 변수 변경하기"
      ]
    },
    {
      "cell_type": "code",
      "metadata": {
        "colab": {
          "base_uri": "https://localhost:8080/"
        },
        "id": "kxnNhO3jsKVs",
        "outputId": "55349cef-7aa1-47d1-ae94-f4d0ce91ee09"
      },
      "source": [
        "x = 10                          #전역 변수 \n",
        "def foo():\n",
        "  global x\n",
        "  x = 20         # 로컬 변수 -> 글로벌 변수 - > x 가 20으로 변경된다.\n",
        "  print(x)\n",
        "foo()\n",
        "print(x)"
      ],
      "execution_count": 5,
      "outputs": [
        {
          "output_type": "stream",
          "text": [
            "20\n",
            "20\n"
          ],
          "name": "stdout"
        }
      ]
    },
    {
      "cell_type": "code",
      "metadata": {
        "colab": {
          "base_uri": "https://localhost:8080/"
        },
        "id": "gAEHOUV4uksJ",
        "outputId": "fdcc8bd6-0fca-4fa8-e7fc-7ee8b6a38b07"
      },
      "source": [
        "def foo():\n",
        "  global z\n",
        "  z = 10\n",
        "  print(z)\n",
        "foo()\n",
        "print(z)"
      ],
      "execution_count": 6,
      "outputs": [
        {
          "output_type": "stream",
          "text": [
            "10\n",
            "10\n"
          ],
          "name": "stdout"
        }
      ]
    },
    {
      "cell_type": "code",
      "metadata": {
        "id": "_NLjv75br30M"
      },
      "source": [
        ""
      ],
      "execution_count": null,
      "outputs": []
    }
  ]
}