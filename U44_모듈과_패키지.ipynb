{
  "nbformat": 4,
  "nbformat_minor": 0,
  "metadata": {
    "colab": {
      "name": "U44_모듈과 패키지.ipynb",
      "provenance": [],
      "authorship_tag": "ABX9TyPutc1ngwVnGL6wJTyWOQuv",
      "include_colab_link": true
    },
    "kernelspec": {
      "name": "python3",
      "display_name": "Python 3"
    },
    "language_info": {
      "name": "python"
    }
  },
  "cells": [
    {
      "cell_type": "markdown",
      "metadata": {
        "id": "view-in-github",
        "colab_type": "text"
      },
      "source": [
        "<a href=\"https://colab.research.google.com/github/7854dmswjd/Python/blob/main/U44_%EB%AA%A8%EB%93%88%EA%B3%BC_%ED%8C%A8%ED%82%A4%EC%A7%80.ipynb\" target=\"_parent\"><img src=\"https://colab.research.google.com/assets/colab-badge.svg\" alt=\"Open In Colab\"/></a>"
      ]
    },
    {
      "cell_type": "markdown",
      "metadata": {
        "id": "fIl_1sw6h-OU"
      },
      "source": [
        "# unit44. 모듈과 패키지"
      ]
    },
    {
      "cell_type": "markdown",
      "metadata": {
        "id": "02voa6M6iCCG"
      },
      "source": [
        "##44.1 import"
      ]
    },
    {
      "cell_type": "code",
      "metadata": {
        "colab": {
          "base_uri": "https://localhost:8080/"
        },
        "id": "GW1Z1dX-hZf2",
        "outputId": "6e173aee-8cfc-4ad2-9ad5-8b47aabe1428"
      },
      "source": [
        "import math as m\n",
        "round(m.pi, 4), m.log2(2), round(m.sqrt(2),4)"
      ],
      "execution_count": 1,
      "outputs": [
        {
          "output_type": "execute_result",
          "data": {
            "text/plain": [
              "(3.1416, 1.0, 1.4142)"
            ]
          },
          "metadata": {
            "tags": []
          },
          "execution_count": 1
        }
      ]
    },
    {
      "cell_type": "code",
      "metadata": {
        "colab": {
          "base_uri": "https://localhost:8080/"
        },
        "id": "BiYQO143hwLs",
        "outputId": "550c90a6-f7c2-47d3-eb64-4e95851a3fe8"
      },
      "source": [
        "# from을 통해서 모듈로부터 함수, 클래스 , 전역변수를 불러옴\n",
        "from math import sqrt, pi\n",
        "round(pi,4),round(sqrt(2),4)"
      ],
      "execution_count": 2,
      "outputs": [
        {
          "output_type": "execute_result",
          "data": {
            "text/plain": [
              "(3.1416, 1.4142)"
            ]
          },
          "metadata": {
            "tags": []
          },
          "execution_count": 2
        }
      ]
    },
    {
      "cell_type": "code",
      "metadata": {
        "colab": {
          "base_uri": "https://localhost:8080/"
        },
        "id": "iOyw-tVPiFyZ",
        "outputId": "f6fc88fc-0b36-4734-fb01-cadb336a1be2"
      },
      "source": [
        "from math import * #-> math 모듈에 있는 것 다 가져옴\n",
        "log2(2), sin(pi/2)"
      ],
      "execution_count": 3,
      "outputs": [
        {
          "output_type": "execute_result",
          "data": {
            "text/plain": [
              "(1.0, 1.0)"
            ]
          },
          "metadata": {
            "tags": []
          },
          "execution_count": 3
        }
      ]
    },
    {
      "cell_type": "markdown",
      "metadata": {
        "id": "ViNWsBDSi8T9"
      },
      "source": [
        "## 44.2 import 패키지"
      ]
    },
    {
      "cell_type": "code",
      "metadata": {
        "colab": {
          "base_uri": "https://localhost:8080/"
        },
        "id": "yshp4IQri7ar",
        "outputId": "21482a87-84c9-4d1c-eb33-4cdabea6d30e"
      },
      "source": [
        "import urllib.request    #urllib -> 패키지 ,, request -> 모듈 or 패키지\n",
        "res = urllib.request.urlopen('http://www.google.co.kr')\n",
        "res.status #-> 200의 의미 제대로 연결이 되었다. \n",
        "\n",
        "#이걸 좀 더 편하게?"
      ],
      "execution_count": 4,
      "outputs": [
        {
          "output_type": "execute_result",
          "data": {
            "text/plain": [
              "200"
            ]
          },
          "metadata": {
            "tags": []
          },
          "execution_count": 4
        }
      ]
    },
    {
      "cell_type": "code",
      "metadata": {
        "id": "YJMAOndZjYp7"
      },
      "source": [
        "from urllib.request import urlopen\n",
        "res = urlopen('http://www.google.co.kr')\n",
        "res.status"
      ],
      "execution_count": null,
      "outputs": []
    },
    {
      "cell_type": "code",
      "metadata": {
        "id": "DpKRn-Rzj1F0"
      },
      "source": [
        "# Scikit-learn 패키지\n",
        "from sklearn.tree import DecisionTreeClassifier\n",
        "from sklearn.model_selection import train_test_split, GridSearchCV #class"
      ],
      "execution_count": null,
      "outputs": []
    },
    {
      "cell_type": "markdown",
      "metadata": {
        "id": "zp6LD0HFkmpQ"
      },
      "source": [
        "# 가상 환경 (virtual environment)\n",
        "- 프로젝트 :python 3.7, numpy, pandas, matplotlib\n",
        "- 경진 대회 : python 3.6, 라이브러ㄹ\n",
        "- 기본환경 : python 3.8, 다양한 라이브러리\n",
        "\n",
        "- 가상 환경을 만들어 주는 프로그램  - virtualenv, cond\n",
        "- 명령으로 가상환경 만듦- conda\n",
        "- pip install package-name -가상환경을 무시하고 설치\n",
        "- KoNLP Korean Natural Language Processing Python -> conda로 설치 힘들다.-> 구글 코랩에서는 설치 쉽다.\n",
        "- conda activate 가상환경\n",
        "- (가상환경) conda install package-name\n",
        "- conda install -c conda-forge package name"
      ]
    }
  ]
}