{
  "nbformat": 4,
  "nbformat_minor": 0,
  "metadata": {
    "colab": {
      "name": "u12_딕셔너리.ipynb",
      "provenance": []
    },
    "kernelspec": {
      "name": "python3",
      "display_name": "Python 3"
    },
    "language_info": {
      "name": "python"
    }
  },
  "cells": [
    {
      "cell_type": "markdown",
      "metadata": {
        "id": "91sRjflqSl2t"
      },
      "source": [
        "#Unit 12. 딕셔너리(Dictionary)"
      ]
    },
    {
      "cell_type": "code",
      "metadata": {
        "colab": {
          "base_uri": "https://localhost:8080/"
        },
        "id": "xnkqACOkSg_l",
        "outputId": "c253aa1a-9d0c-4709-e6c0-6205ba142fc5"
      },
      "source": [
        "lux ={\n",
        "    'health' : 490,  # 체력\n",
        "    'mana' : 334,    # 마력\n",
        "  'melee' : 550,     #사거리\n",
        "  'armor' : 18.72   # 방어력\n",
        "}\n",
        "lux"
      ],
      "execution_count": 1,
      "outputs": [
        {
          "output_type": "execute_result",
          "data": {
            "text/plain": [
              "{'armor': 18.72, 'health': 490, 'mana': 334, 'melee': 550}"
            ]
          },
          "metadata": {
            "tags": []
          },
          "execution_count": 1
        }
      ]
    },
    {
      "cell_type": "code",
      "metadata": {
        "colab": {
          "base_uri": "https://localhost:8080/"
        },
        "id": "ie9qp8itSgQj",
        "outputId": "7ef21af9-759a-4076-eaba-123f1263bba5"
      },
      "source": [
        "a = set((1,2,3))\n",
        "a"
      ],
      "execution_count": 4,
      "outputs": [
        {
          "output_type": "execute_result",
          "data": {
            "text/plain": [
              "{1, 2, 3}"
            ]
          },
          "metadata": {
            "tags": []
          },
          "execution_count": 4
        }
      ]
    },
    {
      "cell_type": "code",
      "metadata": {
        "colab": {
          "base_uri": "https://localhost:8080/"
        },
        "id": "RvHYbUTZV2uk",
        "outputId": "dd4c9e27-00e9-45c0-9bdc-36cf3247a8cb"
      },
      "source": [
        "a=['a','b','c']\n",
        "b = [1,2,3,4]\n",
        "dict(zip(a,b))"
      ],
      "execution_count": 5,
      "outputs": [
        {
          "output_type": "execute_result",
          "data": {
            "text/plain": [
              "{'a': 1, 'b': 2, 'c': 3}"
            ]
          },
          "metadata": {
            "tags": []
          },
          "execution_count": 5
        }
      ]
    },
    {
      "cell_type": "markdown",
      "metadata": {
        "id": "jP5lDKU5WMPM"
      },
      "source": [
        "## 12.2 딕셔너리 키에 접근하고 값 할당하기"
      ]
    },
    {
      "cell_type": "code",
      "metadata": {
        "colab": {
          "base_uri": "https://localhost:8080/"
        },
        "id": "gM2Ie9w7WPc_",
        "outputId": "8e43817e-5f62-49bf-faaf-3cc1a537a1cd"
      },
      "source": [
        "lux['mana']"
      ],
      "execution_count": 6,
      "outputs": [
        {
          "output_type": "execute_result",
          "data": {
            "text/plain": [
              "334"
            ]
          },
          "metadata": {
            "tags": []
          },
          "execution_count": 6
        }
      ]
    },
    {
      "cell_type": "code",
      "metadata": {
        "colab": {
          "base_uri": "https://localhost:8080/"
        },
        "id": "Pp5pSW9kSbg4",
        "outputId": "9773e521-c923-4f92-821b-0725bbf52708"
      },
      "source": [
        "#변경\n",
        "lux['mana'] = 1000\n",
        "#추가\n",
        "lux['new'] = 45\n",
        "lux"
      ],
      "execution_count": 7,
      "outputs": [
        {
          "output_type": "execute_result",
          "data": {
            "text/plain": [
              "{'armor': 18.72, 'health': 490, 'mana': 1000, 'melee': 550, 'new': 45}"
            ]
          },
          "metadata": {
            "tags": []
          },
          "execution_count": 7
        }
      ]
    },
    {
      "cell_type": "code",
      "metadata": {
        "colab": {
          "base_uri": "https://localhost:8080/"
        },
        "id": "hmIXlt3-YWJj",
        "outputId": "e66ea075-7cc9-466e-ee37-54953779dd0d"
      },
      "source": [
        "'mana' in lux"
      ],
      "execution_count": 9,
      "outputs": [
        {
          "output_type": "execute_result",
          "data": {
            "text/plain": [
              "True"
            ]
          },
          "metadata": {
            "tags": []
          },
          "execution_count": 9
        }
      ]
    },
    {
      "cell_type": "code",
      "metadata": {
        "colab": {
          "base_uri": "https://localhost:8080/"
        },
        "id": "6JJogD32YktS",
        "outputId": "7cc2cdd1-7ea6-4979-9955-0efb2f56fa3c"
      },
      "source": [
        "# mana 항목이 존재하면 기존 값 +100, 없으면 값이 50이 되게 만드시오\n",
        "d={}\n",
        "c={'mana':150}\n",
        "\n",
        "if 'mana' in c:\n",
        "  c['mana'] = c['mana']+100\n",
        "else:\n",
        "  c['mana']=50\n",
        "c"
      ],
      "execution_count": 11,
      "outputs": [
        {
          "output_type": "execute_result",
          "data": {
            "text/plain": [
              "{'mana': 250}"
            ]
          },
          "metadata": {
            "tags": []
          },
          "execution_count": 11
        }
      ]
    },
    {
      "cell_type": "code",
      "metadata": {
        "colab": {
          "base_uri": "https://localhost:8080/"
        },
        "id": "Sv0PSUsAaX_H",
        "outputId": "db0903e3-42fe-4cb5-bf58-3b9e6004e0a7"
      },
      "source": [
        "import numpy as np\n",
        "\n",
        "a = np.arange(24).reshape([3,4,2])\n",
        "a"
      ],
      "execution_count": 14,
      "outputs": [
        {
          "output_type": "execute_result",
          "data": {
            "text/plain": [
              "array([[[ 0,  1],\n",
              "        [ 2,  3],\n",
              "        [ 4,  5],\n",
              "        [ 6,  7]],\n",
              "\n",
              "       [[ 8,  9],\n",
              "        [10, 11],\n",
              "        [12, 13],\n",
              "        [14, 15]],\n",
              "\n",
              "       [[16, 17],\n",
              "        [18, 19],\n",
              "        [20, 21],\n",
              "        [22, 23]]])"
            ]
          },
          "metadata": {
            "tags": []
          },
          "execution_count": 14
        }
      ]
    },
    {
      "cell_type": "code",
      "metadata": {
        "colab": {
          "base_uri": "https://localhost:8080/"
        },
        "id": "xAVY4OASbAgB",
        "outputId": "42fe7ac8-909e-4c10-a2ca-aeb9ed40d6c0"
      },
      "source": [
        "a[2,3,1]"
      ],
      "execution_count": 15,
      "outputs": [
        {
          "output_type": "execute_result",
          "data": {
            "text/plain": [
              "23"
            ]
          },
          "metadata": {
            "tags": []
          },
          "execution_count": 15
        }
      ]
    }
  ]
}