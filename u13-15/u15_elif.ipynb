{
  "nbformat": 4,
  "nbformat_minor": 0,
  "metadata": {
    "colab": {
      "name": "u15_elif.ipynb",
      "provenance": []
    },
    "kernelspec": {
      "name": "python3",
      "display_name": "Python 3"
    },
    "language_info": {
      "name": "python"
    }
  },
  "cells": [
    {
      "cell_type": "code",
      "metadata": {
        "colab": {
          "base_uri": "https://localhost:8080/"
        },
        "id": "4n8YeyPbn-Ar",
        "outputId": "06eb019f-aaf5-482c-96be-562c57ee363c"
      },
      "source": [
        "x = 15\n",
        "if x ==10:\n",
        "  print('It is 10')\n",
        "elif x == 20:\n",
        "  print('It is 20')\n",
        "else:\n",
        "  print('It is not 10,20')"
      ],
      "execution_count": 1,
      "outputs": [
        {
          "output_type": "stream",
          "text": [
            "It is not 10,20\n"
          ],
          "name": "stdout"
        }
      ]
    },
    {
      "cell_type": "code",
      "metadata": {
        "colab": {
          "base_uri": "https://localhost:8080/"
        },
        "id": "YpLI-Im-o5W9",
        "outputId": "20fde6ff-9327-4e2d-d199-37d488440ed9"
      },
      "source": [
        "# 숫자 - 입력, 3의 배수 fizz, 5의 배수면 buzz, 15의 배수면 fizzbuzz\n",
        "a = int(input())\n",
        "if a % 15 == 0 :\n",
        "  print('fizzbuzz') # 순서가 중요!! 가장 까다로운 조건을 제일 먼저 쓴다.\n",
        "elif a % 5 == 0:\n",
        "  print('buzz')\n",
        "elif a % 3 == 0:\n",
        "  print('fizz')\n",
        "    "
      ],
      "execution_count": 14,
      "outputs": [
        {
          "output_type": "stream",
          "text": [
            "37\n"
          ],
          "name": "stdout"
        }
      ]
    },
    {
      "cell_type": "code",
      "metadata": {
        "colab": {
          "base_uri": "https://localhost:8080/"
        },
        "id": "KxO9CZ_Uqx6y",
        "outputId": "383be906-42fd-488a-e9ba-c7a882053dc2"
      },
      "source": [
        "'fizz'*False,'buzz'*True"
      ],
      "execution_count": 11,
      "outputs": [
        {
          "output_type": "execute_result",
          "data": {
            "text/plain": [
              "('', 'buzz')"
            ]
          },
          "metadata": {
            "tags": []
          },
          "execution_count": 11
        }
      ]
    },
    {
      "cell_type": "code",
      "metadata": {
        "colab": {
          "base_uri": "https://localhost:8080/"
        },
        "id": "iM4BVVWwq-ND",
        "outputId": "08689fda-b9fe-44d8-ae16-ce67516ab426"
      },
      "source": [
        "print('Fizz'*(a%3==0) + 'Buzz'*(a%5 == 0) or 'Nothing')"
      ],
      "execution_count": 16,
      "outputs": [
        {
          "output_type": "stream",
          "text": [
            "Nothing\n"
          ],
          "name": "stdout"
        }
      ]
    }
  ]
}