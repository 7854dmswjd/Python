{
  "nbformat": 4,
  "nbformat_minor": 0,
  "metadata": {
    "colab": {
      "name": "5회차_서은정.ipynb",
      "provenance": []
    },
    "kernelspec": {
      "name": "python3",
      "display_name": "Python 3"
    },
    "language_info": {
      "name": "python"
    }
  },
  "cells": [
    {
      "cell_type": "markdown",
      "metadata": {
        "id": "7nIjMCQlBuI_"
      },
      "source": [
        "## 8장"
      ]
    },
    {
      "cell_type": "code",
      "metadata": {
        "colab": {
          "base_uri": "https://localhost:8080/"
        },
        "id": "5dCJ44UEBtiy",
        "outputId": "978c9116-092e-49f3-9524-44225d1ff31f"
      },
      "source": [
        "a,b,c,d = map(int,input().split())\n",
        "if a>=90 and b>80 and c>85 and d>=80:\n",
        "  print(True)\n",
        "else:\n",
        "  print(False) "
      ],
      "execution_count": 51,
      "outputs": [
        {
          "output_type": "stream",
          "text": [
            "90 84 87 90\n",
            "True\n"
          ],
          "name": "stdout"
        }
      ]
    },
    {
      "cell_type": "markdown",
      "metadata": {
        "id": "DNKBVsQHyQQK"
      },
      "source": [
        "# 9장"
      ]
    },
    {
      "cell_type": "code",
      "metadata": {
        "id": "jvsMJI2nyILj"
      },
      "source": [
        "s=\"\"\"'Python' is a \"programming language\"\n",
        "that lets you work quickly\n",
        "and\n",
        "integrate systems more effectively.\"\"\""
      ],
      "execution_count": null,
      "outputs": []
    },
    {
      "cell_type": "markdown",
      "metadata": {
        "id": "FCs0jDbRyPvs"
      },
      "source": [
        "## 10장\n"
      ]
    },
    {
      "cell_type": "code",
      "metadata": {
        "id": "LgZyj-CuzPlN"
      },
      "source": [
        "a = int(input())\n",
        "print(tuple(range(-10,10,a)))"
      ],
      "execution_count": null,
      "outputs": []
    },
    {
      "cell_type": "markdown",
      "metadata": {
        "id": "8TeL8R1azfNj"
      },
      "source": [
        "## 11장"
      ]
    },
    {
      "cell_type": "code",
      "metadata": {
        "colab": {
          "base_uri": "https://localhost:8080/"
        },
        "id": "qFtV8WKrze6S",
        "outputId": "1f4a66e6-4970-46b1-be92-1c894c07d1c6"
      },
      "source": [
        "a = str(input())\n",
        "b = str(input())\n",
        "a = a[1::2]\n",
        "b = b[::2]\n",
        "print(a+b)"
      ],
      "execution_count": 14,
      "outputs": [
        {
          "output_type": "stream",
          "text": [
            "python\n",
            "python\n",
            "yhnpto\n"
          ],
          "name": "stdout"
        }
      ]
    },
    {
      "cell_type": "markdown",
      "metadata": {
        "id": "QbL3U3XC3UVq"
      },
      "source": [
        "##12장"
      ]
    },
    {
      "cell_type": "code",
      "metadata": {
        "colab": {
          "base_uri": "https://localhost:8080/"
        },
        "id": "Ry-ZSQHX1gv-",
        "outputId": "3cb206d8-1e59-490d-db2b-f83fcb181fdc"
      },
      "source": [
        "a = list(map(str,input().split()))\n",
        "b = list(map(int,input().split()))\n",
        "dic = {}\n",
        "for i,j in zip(a,b):\n",
        "  dic[i] = j\n",
        "print(dic)\n"
      ],
      "execution_count": 38,
      "outputs": [
        {
          "output_type": "stream",
          "text": [
            "dfd sfwe\n",
            "13 53\n",
            "{'dfd': 13, 'sfwe': 53}\n"
          ],
          "name": "stdout"
        }
      ]
    },
    {
      "cell_type": "markdown",
      "metadata": {
        "id": "Rwr7pM2y84hp"
      },
      "source": [
        "## 13장"
      ]
    },
    {
      "cell_type": "code",
      "metadata": {
        "colab": {
          "base_uri": "https://localhost:8080/"
        },
        "id": "L66qHpc55dSY",
        "outputId": "f0bfe9ec-b6ce-4893-c19a-69271de329e5"
      },
      "source": [
        "price = int(input())\n",
        "coupon = str(input())\n",
        "if coupon == \"Cash3000\":\n",
        "  new_price = price - 3000\n",
        "else:\n",
        "  new_price = price - 5000\n",
        "print(new_price)"
      ],
      "execution_count": 40,
      "outputs": [
        {
          "output_type": "stream",
          "text": [
            "27000\n",
            "Cash3000\n",
            "24000\n"
          ],
          "name": "stdout"
        }
      ]
    },
    {
      "cell_type": "markdown",
      "metadata": {
        "id": "NtFg-eTT8-c5"
      },
      "source": [
        "## 14장"
      ]
    },
    {
      "cell_type": "code",
      "metadata": {
        "colab": {
          "base_uri": "https://localhost:8080/"
        },
        "id": "VFNOiv757qLr",
        "outputId": "558a864a-30de-450c-896f-d92387257f60"
      },
      "source": [
        "import numpy as np\n",
        "a = list(map(int,input().split()))\n",
        "m_score=np.mean(a)\n",
        "for i in a:\n",
        "  if 0<=i<=100:\n",
        "    pass\n",
        "  else:\n",
        "     print(\"잘못된 점수\")\n",
        "     break\n",
        "  if m_score>=80:\n",
        "      print('합격')\n",
        "  else:\n",
        "      print(\"불합격\")"
      ],
      "execution_count": 50,
      "outputs": [
        {
          "output_type": "stream",
          "text": [
            "300 400 300\n",
            "잘못된 점수\n"
          ],
          "name": "stdout"
        }
      ]
    }
  ]
}