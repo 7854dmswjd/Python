{
  "nbformat": 4,
  "nbformat_minor": 0,
  "metadata": {
    "colab": {
      "name": "u13_if.ipynb",
      "provenance": []
    },
    "kernelspec": {
      "name": "python3",
      "display_name": "Python 3"
    },
    "language_info": {
      "name": "python"
    }
  },
  "cells": [
    {
      "cell_type": "markdown",
      "metadata": {
        "id": "IzpPZM4DgwOR"
      },
      "source": [
        "#Unit 13 . if 조건문"
      ]
    },
    {
      "cell_type": "markdown",
      "metadata": {
        "id": "dks3OE5whh5K"
      },
      "source": [
        "## 13.1 . if 조건문"
      ]
    },
    {
      "cell_type": "code",
      "metadata": {
        "colab": {
          "base_uri": "https://localhost:8080/"
        },
        "id": "wVwK_OiVguBB",
        "outputId": "f1bb8808-9aa3-46a5-c80c-9f8fa7be2d4b"
      },
      "source": [
        "x = 10\n",
        "if x ==10:\n",
        "  print('d')"
      ],
      "execution_count": 1,
      "outputs": [
        {
          "output_type": "stream",
          "text": [
            "d\n"
          ],
          "name": "stdout"
        }
      ]
    },
    {
      "cell_type": "code",
      "metadata": {
        "colab": {
          "base_uri": "https://localhost:8080/"
        },
        "id": "GdEOAyIbi-1e",
        "outputId": "853c5fc4-2435-4030-8c38-da119245ac23"
      },
      "source": [
        "x = 9\n",
        "if x:          # x가 0이 아니면 참\n",
        "  print(\"d\")"
      ],
      "execution_count": 2,
      "outputs": [
        {
          "output_type": "stream",
          "text": [
            "d\n"
          ],
          "name": "stdout"
        }
      ]
    },
    {
      "cell_type": "markdown",
      "metadata": {
        "id": "-SEebCYUj78H"
      },
      "source": [
        "## 13.2 들여쓰기\n",
        "## 13.3 중첩"
      ]
    },
    {
      "cell_type": "code",
      "metadata": {
        "colab": {
          "base_uri": "https://localhost:8080/"
        },
        "id": "NixNKm47j7b-",
        "outputId": "b96e5b7c-400e-4e62-c697-839e661e96fb"
      },
      "source": [
        "x = 15\n",
        "if x>10:\n",
        "  print(\"큼\")\n",
        "  if x ==15:\n",
        "    print(\"o\")\n",
        "  else:\n",
        "    print(\"x\")"
      ],
      "execution_count": 3,
      "outputs": [
        {
          "output_type": "stream",
          "text": [
            "큼\n",
            "o\n"
          ],
          "name": "stdout"
        }
      ]
    }
  ]
}