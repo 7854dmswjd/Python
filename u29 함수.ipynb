{
  "nbformat": 4,
  "nbformat_minor": 0,
  "metadata": {
    "colab": {
      "name": "Untitled3.ipynb",
      "provenance": [],
      "authorship_tag": "ABX9TyMHmrPgT9rVYhbLatqh6qXN",
      "include_colab_link": true
    },
    "kernelspec": {
      "name": "python3",
      "display_name": "Python 3"
    },
    "language_info": {
      "name": "python"
    }
  },
  "cells": [
    {
      "cell_type": "markdown",
      "metadata": {
        "id": "view-in-github",
        "colab_type": "text"
      },
      "source": [
        "<a href=\"https://colab.research.google.com/github/7854dmswjd/Python/blob/main/u29%20%ED%95%A8%EC%88%98.ipynb\" target=\"_parent\"><img src=\"https://colab.research.google.com/assets/colab-badge.svg\" alt=\"Open In Colab\"/></a>"
      ]
    },
    {
      "cell_type": "markdown",
      "metadata": {
        "id": "OdPMsEApNow9"
      },
      "source": [
        "#Unit 29. 함수"
      ]
    },
    {
      "cell_type": "code",
      "metadata": {
        "id": "ZNM_w0ESNm8V"
      },
      "source": [
        "def hello():\n",
        "  print('Hello')"
      ],
      "execution_count": 1,
      "outputs": []
    },
    {
      "cell_type": "code",
      "metadata": {
        "colab": {
          "base_uri": "https://localhost:8080/"
        },
        "id": "OSYotYG5PJH8",
        "outputId": "94ba2d8b-4888-4865-95f2-9ad405fdeca5"
      },
      "source": [
        "hell()"
      ],
      "execution_count": 2,
      "outputs": [
        {
          "output_type": "stream",
          "text": [
            "Hello\n"
          ],
          "name": "stdout"
        }
      ]
    },
    {
      "cell_type": "markdown",
      "metadata": {
        "id": "rXm6D0CRPvHJ"
      },
      "source": [
        "##29.2 덧셈함수"
      ]
    },
    {
      "cell_type": "code",
      "metadata": {
        "id": "UBeSfwcZPMHm"
      },
      "source": [
        "def add(a,b):\n",
        "\n",
        "  \"\"\"\n",
        "  이 함수는 a와 b를 더한 뒤 결과를 반환하는 함수입니다. #docstring\n",
        "  \"\"\"\n",
        "  \n",
        "  print(a+b)"
      ],
      "execution_count": 8,
      "outputs": []
    },
    {
      "cell_type": "code",
      "metadata": {
        "colab": {
          "base_uri": "https://localhost:8080/"
        },
        "id": "isFHrjNAQD7m",
        "outputId": "029cb5ae-5459-4c4b-8f79-1ce9f35285e0"
      },
      "source": [
        "add(12,3)"
      ],
      "execution_count": 4,
      "outputs": [
        {
          "output_type": "stream",
          "text": [
            "15\n"
          ],
          "name": "stdout"
        }
      ]
    },
    {
      "cell_type": "code",
      "metadata": {
        "id": "j2Ou9VoVRGTZ"
      },
      "source": [
        "# 도움말 호출\n",
        "add?\n"
      ],
      "execution_count": 10,
      "outputs": []
    },
    {
      "cell_type": "markdown",
      "metadata": {
        "id": "yP5PKzXyRlJc"
      },
      "source": [
        "## 29.3 결과값 반환"
      ]
    },
    {
      "cell_type": "code",
      "metadata": {
        "id": "wss6UhJxQFxJ"
      },
      "source": [
        "def add(a,b):\n",
        "  return a+b"
      ],
      "execution_count": 11,
      "outputs": []
    },
    {
      "cell_type": "code",
      "metadata": {
        "colab": {
          "base_uri": "https://localhost:8080/"
        },
        "id": "FYji4WXFRr7L",
        "outputId": "c57a8f6c-18a4-4f11-82f9-2d883a0cc395"
      },
      "source": [
        "add(4,5),add(10,20)"
      ],
      "execution_count": 12,
      "outputs": [
        {
          "output_type": "execute_result",
          "data": {
            "text/plain": [
              "(9, 30)"
            ]
          },
          "metadata": {
            "tags": []
          },
          "execution_count": 12
        }
      ]
    },
    {
      "cell_type": "code",
      "metadata": {
        "id": "sXUdwspBRzre"
      },
      "source": [
        "x = addm(23,45)"
      ],
      "execution_count": 14,
      "outputs": []
    },
    {
      "cell_type": "code",
      "metadata": {
        "id": "C-ZzSyIVSAeM"
      },
      "source": [
        "def is_ten(x):\n",
        "  return x == 10"
      ],
      "execution_count": 15,
      "outputs": []
    },
    {
      "cell_type": "code",
      "metadata": {
        "colab": {
          "base_uri": "https://localhost:8080/"
        },
        "id": "_5DWoUpYSIFa",
        "outputId": "b2a9dc48-9941-4d99-d585-81eeb3ff579a"
      },
      "source": [
        "is_ten(3)"
      ],
      "execution_count": 17,
      "outputs": [
        {
          "output_type": "execute_result",
          "data": {
            "text/plain": [
              "False"
            ]
          },
          "metadata": {
            "tags": []
          },
          "execution_count": 17
        }
      ]
    },
    {
      "cell_type": "code",
      "metadata": {
        "id": "X1hisUViSQED"
      },
      "source": [
        "def not_ten(x):\n",
        "  if x != 10:\n",
        "    return\n",
        "  else:\n",
        "    print('It is 10.')"
      ],
      "execution_count": 25,
      "outputs": []
    },
    {
      "cell_type": "code",
      "metadata": {
        "id": "VH24sQOYTAJQ"
      },
      "source": [
        "def not_ten(x):\n",
        "  if x != 10:\n",
        "    return\n",
        "  print('It is 10.')"
      ],
      "execution_count": 27,
      "outputs": []
    },
    {
      "cell_type": "code",
      "metadata": {
        "colab": {
          "base_uri": "https://localhost:8080/"
        },
        "id": "SLbubA_NSSN4",
        "outputId": "4ab1966f-efe9-423f-917a-8f7abcde6441"
      },
      "source": [
        "not_ten(10)"
      ],
      "execution_count": 28,
      "outputs": [
        {
          "output_type": "stream",
          "text": [
            "It is 10.\n"
          ],
          "name": "stdout"
        }
      ]
    },
    {
      "cell_type": "markdown",
      "metadata": {
        "id": "M4YEjfPtTe2P"
      },
      "source": [
        "## 29.4 여러개의 결과값 반환"
      ]
    },
    {
      "cell_type": "code",
      "metadata": {
        "id": "0UmtAdK2ThRO"
      },
      "source": [
        "def add_sub(a,b):\n",
        "  return a+b, a-b"
      ],
      "execution_count": 29,
      "outputs": []
    },
    {
      "cell_type": "code",
      "metadata": {
        "id": "y3ORc5sITm89"
      },
      "source": [
        "x, y = add_sub(15,7)"
      ],
      "execution_count": 31,
      "outputs": []
    },
    {
      "cell_type": "code",
      "metadata": {
        "colab": {
          "base_uri": "https://localhost:8080/"
        },
        "id": "cTPn2xIlTeAT",
        "outputId": "d60560d0-faad-41c3-b7e7-3a3a5438b384"
      },
      "source": [
        "x,y"
      ],
      "execution_count": 32,
      "outputs": [
        {
          "output_type": "execute_result",
          "data": {
            "text/plain": [
              "(22, 8)"
            ]
          },
          "metadata": {
            "tags": []
          },
          "execution_count": 32
        }
      ]
    },
    {
      "cell_type": "markdown",
      "metadata": {
        "id": "aXD30NWfUJt1"
      },
      "source": [
        "##29.5 함수의 호출 과정"
      ]
    },
    {
      "cell_type": "code",
      "metadata": {
        "id": "knQNQGZGTtHc"
      },
      "source": [
        "# Stack을 이용한다."
      ],
      "execution_count": null,
      "outputs": []
    },
    {
      "cell_type": "markdown",
      "metadata": {
        "id": "Ar17QuWNVk01"
      },
      "source": [
        "##### 연습 문제 \n",
        "- 3자리수 정수 두개를 곱해서 나온 결과가 팔린드롬이 되도록 할 때, 가장 큰 숫자는?"
      ]
    },
    {
      "cell_type": "code",
      "metadata": {
        "id": "sd83rR7ybwPJ"
      },
      "source": [
        "def is_palindrome(x):\n",
        "  s = str(x)\n",
        "  return s == s[::-1]\n",
        "\n"
      ],
      "execution_count": 42,
      "outputs": []
    },
    {
      "cell_type": "code",
      "metadata": {
        "colab": {
          "base_uri": "https://localhost:8080/"
        },
        "id": "k0FAnIbZVSCF",
        "outputId": "0fa31c85-35b1-4561-9e1a-ce79eb7db02b"
      },
      "source": [
        "max_pal, m, n = 0, 0, 0\n",
        "for i in range(100,1000):\n",
        "  for k in range(i,1000):\n",
        "    if is_palindrome(i*k):\n",
        "      if i*k > max_pal:\n",
        "        max_pal = i*k\n",
        "        m = i\n",
        "        n = k\n",
        "print(f'{m}X{n} = {max_pal}')"
      ],
      "execution_count": 46,
      "outputs": [
        {
          "output_type": "stream",
          "text": [
            "913X993 = 906609\n"
          ],
          "name": "stdout"
        }
      ]
    },
    {
      "cell_type": "code",
      "metadata": {
        "colab": {
          "base_uri": "https://localhost:8080/"
        },
        "id": "ZIbtrEszbDVh",
        "outputId": "a79f2f58-5831-4383-ea01-dcbfed50301c"
      },
      "source": [
        "a =123\n",
        "b = str(a)\n",
        "list(b.split())"
      ],
      "execution_count": 41,
      "outputs": [
        {
          "output_type": "execute_result",
          "data": {
            "text/plain": [
              "['123']"
            ]
          },
          "metadata": {
            "tags": []
          },
          "execution_count": 41
        }
      ]
    },
    {
      "cell_type": "code",
      "metadata": {
        "colab": {
          "base_uri": "https://localhost:8080/"
        },
        "id": "hkwjSDIidGti",
        "outputId": "e03fb3b1-79cf-4887-c792-514ec84be155"
      },
      "source": [
        "is_palindrome(12345)"
      ],
      "execution_count": 43,
      "outputs": [
        {
          "output_type": "execute_result",
          "data": {
            "text/plain": [
              "False"
            ]
          },
          "metadata": {
            "tags": []
          },
          "execution_count": 43
        }
      ]
    },
    {
      "cell_type": "markdown",
      "metadata": {
        "id": "FS7mD2_wdGTC"
      },
      "source": [
        "\n",
        "\n",
        "*   항목 추가\n",
        "*   항목 추가\n",
        "\n"
      ]
    }
  ]
}