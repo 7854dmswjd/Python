{
  "nbformat": 4,
  "nbformat_minor": 0,
  "metadata": {
    "colab": {
      "name": "Untitled7.ipynb",
      "provenance": [],
      "authorship_tag": "ABX9TyPJs6jQvuL6KcW6KtxCB7+q",
      "include_colab_link": true
    },
    "kernelspec": {
      "name": "python3",
      "display_name": "Python 3"
    },
    "language_info": {
      "name": "python"
    }
  },
  "cells": [
    {
      "cell_type": "markdown",
      "metadata": {
        "id": "view-in-github",
        "colab_type": "text"
      },
      "source": [
        "<a href=\"https://colab.research.google.com/github/7854dmswjd/Python/blob/main/Untitled7.ipynb\" target=\"_parent\"><img src=\"https://colab.research.google.com/assets/colab-badge.svg\" alt=\"Open In Colab\"/></a>"
      ]
    },
    {
      "cell_type": "markdown",
      "metadata": {
        "id": "nowo_YPGtMDR"
      },
      "source": [
        "#Unit 38. 예외 처리"
      ]
    },
    {
      "cell_type": "markdown",
      "metadata": {
        "id": "FH53DYtFtP9l"
      },
      "source": [
        "###38.1 try except"
      ]
    },
    {
      "cell_type": "code",
      "metadata": {
        "colab": {
          "base_uri": "https://localhost:8080/"
        },
        "id": "qKJJ5CFZtIgE",
        "outputId": "6b6a08e7-67ab-490b-a052-295d1f07b34a"
      },
      "source": [
        "a = [1,2,3]\n",
        "try:\n",
        "  a[4]\n",
        "except:\n",
        "  print('예외 발생')"
      ],
      "execution_count": 1,
      "outputs": [
        {
          "output_type": "stream",
          "text": [
            "예외 발생\n"
          ],
          "name": "stdout"
        }
      ]
    },
    {
      "cell_type": "code",
      "metadata": {
        "colab": {
          "base_uri": "https://localhost:8080/"
        },
        "id": "nqh9iQngwBm6",
        "outputId": "98654766-8221-4297-d2ac-967fc3e5f1ac"
      },
      "source": [
        "try:\n",
        "  int('10d')\n",
        "except ZeroDivisionError:\n",
        "  print('0으로 나눌 수 없습니다.')\n",
        "except IndexError:\n",
        "  print(\"Index error 발생\")\n",
        "except ValueError:\n",
        "  print('Value Error 발생')\n"
      ],
      "execution_count": 2,
      "outputs": [
        {
          "output_type": "stream",
          "text": [
            "Value Error 발생\n"
          ],
          "name": "stdout"
        }
      ]
    },
    {
      "cell_type": "code",
      "metadata": {
        "colab": {
          "base_uri": "https://localhost:8080/"
        },
        "id": "ic8OwvduxQMb",
        "outputId": "7135a8b4-7fd0-4b91-807a-e9c65e0fd34a"
      },
      "source": [
        "##예외의 모든 에러 처리\n",
        "\n",
        "try:\n",
        "  int('10d')\n",
        "except Exception as e:            #alias\n",
        "  print(e)                        #Exception 객체의 __str__ method -> print해서 보여줄 메세지를 임의로 정할 때"
      ],
      "execution_count": 3,
      "outputs": [
        {
          "output_type": "stream",
          "text": [
            "invalid literal for int() with base 10: '10d'\n"
          ],
          "name": "stdout"
        }
      ]
    },
    {
      "cell_type": "markdown",
      "metadata": {
        "id": "pn090j-2xmow"
      },
      "source": [
        "## 38.2 else-finally"
      ]
    },
    {
      "cell_type": "code",
      "metadata": {
        "colab": {
          "base_uri": "https://localhost:8080/"
        },
        "id": "koliKjIFxhXg",
        "outputId": "c47e98d2-ab43-495d-e39d-1a45c63ba2d4"
      },
      "source": [
        "try:\n",
        "  x = int(input('나눌 숫자 입력>'))\n",
        "  y = 10/x\n",
        "except Exception as e:\n",
        "  print(e)\n",
        "else:\n",
        "  print(y)\n",
        "finally:                        # 예외와 상관없이 항상 실행\n",
        "  print('코드 실행 종료')\n",
        "\n",
        "\n",
        "\n",
        "# try(except,else) 안에서 만든 변수는 try이 밖에서도 사용 가능 "
      ],
      "execution_count": 6,
      "outputs": [
        {
          "output_type": "stream",
          "text": [
            "나눌 숫자 입력>3\n",
            "3.3333333333333335\n",
            "코드 실행 종료\n"
          ],
          "name": "stdout"
        }
      ]
    },
    {
      "cell_type": "markdown",
      "metadata": {
        "id": "21uflqLt3ZBz"
      },
      "source": [
        "## 38.3 예외 발생시키기\n"
      ]
    },
    {
      "cell_type": "code",
      "metadata": {
        "colab": {
          "base_uri": "https://localhost:8080/"
        },
        "id": "dC7foN9U2N0P",
        "outputId": "7941ac4d-aa54-467d-8d88-24bd82f91c09"
      },
      "source": [
        "import random\n",
        "try:\n",
        "  x = random.randint(1,10)\n",
        "  print(x)\n",
        "  if x % 3 != 0:\n",
        "    raise Exception('3의 배수가 아닙니다.')\n",
        "  \n",
        "except Exception as e:\n",
        "  print('예외 발생 - ', e)"
      ],
      "execution_count": 8,
      "outputs": [
        {
          "output_type": "stream",
          "text": [
            "2\n",
            "예외 발생 3의 배수가 아닙니다.\n"
          ],
          "name": "stdout"
        }
      ]
    },
    {
      "cell_type": "code",
      "metadata": {
        "id": "TD-nezg26GMO"
      },
      "source": [
        "def multiple11(x):\n",
        "  if x % 11 != 0:\n",
        "    raise Exception('11의 배수가 아닙니다.')\n",
        "  print(x)"
      ],
      "execution_count": 15,
      "outputs": []
    },
    {
      "cell_type": "code",
      "metadata": {
        "colab": {
          "base_uri": "https://localhost:8080/"
        },
        "id": "pggtGW6C6R-W",
        "outputId": "732ccfe1-a2e3-453c-b895-4ae00d0bfd35"
      },
      "source": [
        "try:\n",
        "  multiple11(100)\n",
        "except Exception as e:\n",
        "  print('예외발생 ->',e)"
      ],
      "execution_count": 17,
      "outputs": [
        {
          "output_type": "stream",
          "text": [
            "예외발생 -> 11의 배수가 아닙니다.\n"
          ],
          "name": "stdout"
        }
      ]
    },
    {
      "cell_type": "code",
      "metadata": {
        "id": "bkxReL2Oxarw"
      },
      "source": [
        "for():\n",
        "  for():\n",
        "    for():\n",
        "      if 조건:\n",
        "        loop을 완전 탈출\n",
        "break는 한 loop만 탈출\n",
        "\n",
        "\n",
        "\n",
        "try:\n",
        "  for():\n",
        "  for():\n",
        "    for():\n",
        "      if 조건:\n",
        "        raise Exception()\n",
        "except:\n",
        "  ;\n",
        "\n"
      ],
      "execution_count": null,
      "outputs": []
    },
    {
      "cell_type": "markdown",
      "metadata": {
        "id": "z4VaBSa37rKP"
      },
      "source": [
        "##38.4 예외 만들기"
      ]
    },
    {
      "cell_type": "code",
      "metadata": {
        "id": "yFela5Dg7t0m"
      },
      "source": [
        "# Exception을 상속받아서 새로운 예외를 만듦"
      ],
      "execution_count": null,
      "outputs": []
    },
    {
      "cell_type": "code",
      "metadata": {
        "id": "eXZ73mw47XHl"
      },
      "source": [
        ""
      ],
      "execution_count": null,
      "outputs": []
    }
  ]
}