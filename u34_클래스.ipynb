{
  "nbformat": 4,
  "nbformat_minor": 0,
  "metadata": {
    "colab": {
      "name": "u34_클래스.ipynb",
      "provenance": [],
      "authorship_tag": "ABX9TyMkpzIs4N4VTfsF4pD6k+1d",
      "include_colab_link": true
    },
    "kernelspec": {
      "name": "python3",
      "display_name": "Python 3"
    },
    "language_info": {
      "name": "python"
    }
  },
  "cells": [
    {
      "cell_type": "markdown",
      "metadata": {
        "id": "view-in-github",
        "colab_type": "text"
      },
      "source": [
        "<a href=\"https://colab.research.google.com/github/7854dmswjd/Python/blob/main/u34_%ED%81%B4%EB%9E%98%EC%8A%A4.ipynb\" target=\"_parent\"><img src=\"https://colab.research.google.com/assets/colab-badge.svg\" alt=\"Open In Colab\"/></a>"
      ]
    },
    {
      "cell_type": "markdown",
      "metadata": {
        "id": "3ONq80Ud67NL"
      },
      "source": [
        "#Unit 34 . 클래스 (Class)"
      ]
    },
    {
      "cell_type": "markdown",
      "metadata": {
        "id": "p34njlMc7e25"
      },
      "source": [
        "## 클래스와 메서드 만들기"
      ]
    },
    {
      "cell_type": "code",
      "metadata": {
        "id": "UiCPNxAl64bm"
      },
      "source": [
        "class Person:    # Class 이름은 대문자로 시작\n",
        "  def greeting(self): #greeting이라는 메소드\n",
        "    print('Hello')"
      ],
      "execution_count": 1,
      "outputs": []
    },
    {
      "cell_type": "code",
      "metadata": {
        "id": "-uI37xjS73pt"
      },
      "source": [
        "# 인스턴스를 만들어야  클래스를 사용할 수 있다.\n",
        "james = Person()\n",
        "maria = Person()\n"
      ],
      "execution_count": 5,
      "outputs": []
    },
    {
      "cell_type": "code",
      "metadata": {
        "colab": {
          "base_uri": "https://localhost:8080/"
        },
        "id": "s40TwBRF8SQ4",
        "outputId": "b4b5963f-c97b-4877-896f-2d3d7c6c8142"
      },
      "source": [
        "james.greeting()"
      ],
      "execution_count": 6,
      "outputs": [
        {
          "output_type": "stream",
          "text": [
            "Hello\n"
          ],
          "name": "stdout"
        }
      ]
    },
    {
      "cell_type": "code",
      "metadata": {
        "colab": {
          "base_uri": "https://localhost:8080/"
        },
        "id": "1SoWV03Z8dYf",
        "outputId": "ba375a1c-731c-4875-f75b-068a89e4d071"
      },
      "source": [
        "Person().greeting()"
      ],
      "execution_count": 7,
      "outputs": [
        {
          "output_type": "stream",
          "text": [
            "Hello\n"
          ],
          "name": "stdout"
        }
      ]
    },
    {
      "cell_type": "code",
      "metadata": {
        "id": "H6HJNIxd9oQL"
      },
      "source": [
        "# 클래스 내에서 메서드 호출하기\n",
        "class Person:\n",
        "  def greeting(self):\n",
        "    print('Hello')\n",
        "  \n",
        "  def hello(self):\n",
        "    self.greeting()"
      ],
      "execution_count": 8,
      "outputs": []
    },
    {
      "cell_type": "code",
      "metadata": {
        "colab": {
          "base_uri": "https://localhost:8080/"
        },
        "id": "wxrxj7y5-YVE",
        "outputId": "3f709f02-6fae-452b-9c74-f8d7eb242d53"
      },
      "source": [
        "james = Person()\n",
        "james.hello()"
      ],
      "execution_count": 9,
      "outputs": [
        {
          "output_type": "stream",
          "text": [
            "Hello\n"
          ],
          "name": "stdout"
        }
      ]
    },
    {
      "cell_type": "code",
      "metadata": {
        "colab": {
          "base_uri": "https://localhost:8080/"
        },
        "id": "gDra62Hv-jfq",
        "outputId": "b6157495-a51b-48e6-d74d-d3f84bea451d"
      },
      "source": [
        "isinstance(james, Person)    # 나중에 상속받았을때 확인하기위해"
      ],
      "execution_count": 10,
      "outputs": [
        {
          "output_type": "execute_result",
          "data": {
            "text/plain": [
              "True"
            ]
          },
          "metadata": {
            "tags": []
          },
          "execution_count": 10
        }
      ]
    },
    {
      "cell_type": "code",
      "metadata": {
        "id": "XukTK8Bc-rjX"
      },
      "source": [
        "def factorial(n):\n",
        "  if not isinstance(n, int) or n < 0:\n",
        "    return None\n",
        "  if n == 0 :\n",
        "    return 1\n",
        "  return n*factorial(n-1)"
      ],
      "execution_count": 13,
      "outputs": []
    },
    {
      "cell_type": "code",
      "metadata": {
        "id": "zP8upYE3-2C6"
      },
      "source": [
        "factorial(3.14)"
      ],
      "execution_count": 14,
      "outputs": []
    },
    {
      "cell_type": "code",
      "metadata": {
        "colab": {
          "base_uri": "https://localhost:8080/"
        },
        "id": "rPMSzh7a_YZ-",
        "outputId": "61a81b57-bcfc-4407-8ca8-d2a53af90042"
      },
      "source": [
        "factorial(6)"
      ],
      "execution_count": 15,
      "outputs": [
        {
          "output_type": "execute_result",
          "data": {
            "text/plain": [
              "720"
            ]
          },
          "metadata": {
            "tags": []
          },
          "execution_count": 15
        }
      ]
    },
    {
      "cell_type": "markdown",
      "metadata": {
        "id": "K_X3NFWQ_dJ6"
      },
      "source": [
        "## 34.2 속성(Attribute)"
      ]
    },
    {
      "cell_type": "code",
      "metadata": {
        "id": "SwWKbczQ_gVE"
      },
      "source": [
        "class Person:\n",
        "  def __init__(self):\n",
        "    self.hello = '안녕하세요'   # hello 속성값을 갖게 됨\n",
        "  \n",
        "  def greeting(self):\n",
        "    print(self.hello)"
      ],
      "execution_count": null,
      "outputs": []
    },
    {
      "cell_type": "code",
      "metadata": {
        "colab": {
          "base_uri": "https://localhost:8080/"
        },
        "id": "WLvCLj86BLXX",
        "outputId": "503c80f6-8fce-4973-8c0c-f6ea017daec1"
      },
      "source": [
        "maria = Person()\n",
        "maria.greeting()"
      ],
      "execution_count": 16,
      "outputs": [
        {
          "output_type": "stream",
          "text": [
            "Hello\n"
          ],
          "name": "stdout"
        }
      ]
    },
    {
      "cell_type": "code",
      "metadata": {
        "colab": {
          "base_uri": "https://localhost:8080/"
        },
        "id": "Z7fu5pfvBPXa",
        "outputId": "f71e02b1-1768-40b3-ee05-fb99e49abaaf"
      },
      "source": [
        "maria.hello = 'How are you'\n",
        "maria.greeting()"
      ],
      "execution_count": 17,
      "outputs": [
        {
          "output_type": "stream",
          "text": [
            "Hello\n"
          ],
          "name": "stdout"
        }
      ]
    },
    {
      "cell_type": "code",
      "metadata": {
        "id": "AQ4Op22UBXXw"
      },
      "source": [
        "class Person:\n",
        "  def __init__(self,hello):       # init = 다른 언어에서 Constructor라고 지칭됨\n",
        "    self.hello = hello\n",
        "\n",
        "  def greeting(self):\n",
        "    print(self.hello)"
      ],
      "execution_count": 18,
      "outputs": []
    },
    {
      "cell_type": "code",
      "metadata": {
        "id": "rSUpc22OBzve"
      },
      "source": [
        "james = Person('안녕')\n",
        "maria = Person('Hello')"
      ],
      "execution_count": 20,
      "outputs": []
    },
    {
      "cell_type": "code",
      "metadata": {
        "colab": {
          "base_uri": "https://localhost:8080/"
        },
        "id": "obwI2CT0B-Xr",
        "outputId": "e64bb93a-44c5-4437-ae7a-2de94a0a0f86"
      },
      "source": [
        "james.greeting()\n",
        "maria.greeting()"
      ],
      "execution_count": 22,
      "outputs": [
        {
          "output_type": "stream",
          "text": [
            "안녕\n",
            "Hello\n"
          ],
          "name": "stdout"
        }
      ]
    },
    {
      "cell_type": "code",
      "metadata": {
        "id": "_n7yrocUChux"
      },
      "source": [
        "class Person:\n",
        "  def __init__(self, name, age, addr):\n",
        "    self.hello = '안녕하세요?'\n",
        "    self.name = name\n",
        "    self.age  = age\n",
        "    self.addr = addr\n",
        "\n",
        "  def greeting(self):\n",
        "    print(f'{self.hello} 저는 {self.name}입니다.')\n",
        "\n",
        "  def __str__(self):\n",
        "    return f'hello : {self.hello}, name:{self.name}, age:{self.age}, addr: {self.addr}'\n",
        "    "
      ],
      "execution_count": 32,
      "outputs": []
    },
    {
      "cell_type": "code",
      "metadata": {
        "colab": {
          "base_uri": "https://localhost:8080/"
        },
        "id": "YqahYoHfDM6K",
        "outputId": "e11dc186-c0d0-4ff0-be5e-57030ca8e39d"
      },
      "source": [
        "maria = Person('마리아',23,'서울시 동작구')\n",
        "maria.greeting()"
      ],
      "execution_count": 33,
      "outputs": [
        {
          "output_type": "stream",
          "text": [
            "안녕하세요? 저는 마리아입니다.\n"
          ],
          "name": "stdout"
        }
      ]
    },
    {
      "cell_type": "code",
      "metadata": {
        "colab": {
          "base_uri": "https://localhost:8080/"
        },
        "id": "tATljwr8VVDW",
        "outputId": "ee1e810d-6dd3-4453-cbf0-694886c71617"
      },
      "source": [
        "print(maria)"
      ],
      "execution_count": 34,
      "outputs": [
        {
          "output_type": "stream",
          "text": [
            "hello : 안녕하세요?, name:마리아, age:23, addr: 서울시 동작구\n"
          ],
          "name": "stdout"
        }
      ]
    },
    {
      "cell_type": "markdown",
      "metadata": {
        "id": "PZlF9tlyVwb0"
      },
      "source": [
        "## 비공개 속성"
      ]
    },
    {
      "cell_type": "code",
      "metadata": {
        "colab": {
          "base_uri": "https://localhost:8080/"
        },
        "id": "QO_1hrMQVjqS",
        "outputId": "f57e065b-6c4c-4b5d-f16c-df66e8dcf3df"
      },
      "source": [
        "maria.age = 20\n",
        "print(maria)"
      ],
      "execution_count": 35,
      "outputs": [
        {
          "output_type": "stream",
          "text": [
            "hello : 안녕하세요?, name:마리아, age:20, addr: 서울시 동작구\n"
          ],
          "name": "stdout"
        }
      ]
    },
    {
      "cell_type": "code",
      "metadata": {
        "id": "jr8z87lFWLfC"
      },
      "source": [
        "class Person:\n",
        "  def __init__(self, name, age, addr, wallet):\n",
        "    self.name = name\n",
        "    self.age  = age\n",
        "    self.addr = addr\n",
        "    self.__wallet = wallet    #  비공개 속성 __wallet 속성은 비공개\n",
        "\n",
        "  def greeting(self):\n",
        "    print(f'안녕하세요 저는 {self.name}입니다.')\n",
        "\n",
        "  def pay(self, amount):\n",
        "    if self.__wallet - amount < 0:\n",
        "      print('잔액 부족')\n",
        "      return\n",
        "    self.__wallet -= amount\n",
        "    print(f'지갑에 남은 돈은 {self.__wallet}입니다.')\n",
        "  \n",
        "# java의 toSting() method\n",
        "  def __str__(self):\n",
        "    return f' name:{self.name}, age:{self.age}, addr: {self.addr}, wallet: {self.__wallet}'"
      ],
      "execution_count": 49,
      "outputs": []
    },
    {
      "cell_type": "code",
      "metadata": {
        "colab": {
          "base_uri": "https://localhost:8080/"
        },
        "id": "d7piJeBqWveZ",
        "outputId": "35e86c79-f5d0-4d69-fa0c-9b6c6bf139ec"
      },
      "source": [
        "james = Person('james',27,'서울 강남구 역삼동', 10000)\n",
        "print(james)"
      ],
      "execution_count": 50,
      "outputs": [
        {
          "output_type": "stream",
          "text": [
            " name:james, age:27, addr: 서울 강남구 역삼동, wallet: 10000\n"
          ],
          "name": "stdout"
        }
      ]
    },
    {
      "cell_type": "code",
      "metadata": {
        "colab": {
          "base_uri": "https://localhost:8080/"
        },
        "id": "r-3r7IpuXE7r",
        "outputId": "fbe4375b-2881-4293-9596-38d82df4c66c"
      },
      "source": [
        "james.greeting()"
      ],
      "execution_count": 51,
      "outputs": [
        {
          "output_type": "stream",
          "text": [
            "안녕하세요 저는 james입니다.\n"
          ],
          "name": "stdout"
        }
      ]
    },
    {
      "cell_type": "code",
      "metadata": {
        "id": "xDKBVmlqXHij"
      },
      "source": [
        "james.__wallet = 1000000   #비공개 속성 이므로 값이 변하지 않는다. \n"
      ],
      "execution_count": 52,
      "outputs": []
    },
    {
      "cell_type": "code",
      "metadata": {
        "colab": {
          "base_uri": "https://localhost:8080/"
        },
        "id": "cd4-dpzPXK1o",
        "outputId": "24baba5b-37e0-4449-89e6-1a905d93aa31"
      },
      "source": [
        "print(james)"
      ],
      "execution_count": 53,
      "outputs": [
        {
          "output_type": "stream",
          "text": [
            " name:james, age:27, addr: 서울 강남구 역삼동, wallet: 10000\n"
          ],
          "name": "stdout"
        }
      ]
    },
    {
      "cell_type": "code",
      "metadata": {
        "colab": {
          "base_uri": "https://localhost:8080/"
        },
        "id": "FsqD9jUIXRx7",
        "outputId": "b7e60388-ad88-48f1-8e42-59d8e723afbc"
      },
      "source": [
        "james.pay(5000)"
      ],
      "execution_count": 58,
      "outputs": [
        {
          "output_type": "stream",
          "text": [
            "잔액 부족\n"
          ],
          "name": "stdout"
        }
      ]
    },
    {
      "cell_type": "code",
      "metadata": {
        "colab": {
          "base_uri": "https://localhost:8080/"
        },
        "id": "i4yFXCk4YTon",
        "outputId": "c1ca6b2a-945f-4591-e749-822d5b6a23fb"
      },
      "source": [
        "print(james)"
      ],
      "execution_count": 59,
      "outputs": [
        {
          "output_type": "stream",
          "text": [
            " name:james, age:27, addr: 서울 강남구 역삼동, wallet: 0\n"
          ],
          "name": "stdout"
        }
      ]
    },
    {
      "cell_type": "code",
      "metadata": {
        "colab": {
          "base_uri": "https://localhost:8080/"
        },
        "id": "ASQwSBIDYXFk",
        "outputId": "c325134f-91e5-4ce4-fdbd-a66ed1aa294b"
      },
      "source": [
        "james.pay(5000)"
      ],
      "execution_count": 56,
      "outputs": [
        {
          "output_type": "stream",
          "text": [
            "지갑에 남은 돈은 0입니다.\n"
          ],
          "name": "stdout"
        }
      ]
    },
    {
      "cell_type": "code",
      "metadata": {
        "id": "fDLypwnbYgRq"
      },
      "source": [
        "class Account:\n",
        "  def __init__(self, ano, owner, balance):\n",
        "    self.ano = ano\n",
        "    self.owner = owner\n",
        "    self.__balance = balance\n",
        "  \n",
        "  def deposit(self, amount):\n",
        "    if self.__balance + amount >= 10000000:\n",
        "      print('입금 불가')\n",
        "      return\n",
        "    self.__balance += amount\n",
        "    print(f'잔액은 {self.__balance:9,d}원 입니다.')\n",
        "\n",
        "  def withdraw(self, amount):\n",
        "    if self.__balance - amount < 0:\n",
        "      print('출금 불가')\n",
        "      return\n",
        "    self.__balance -= amount\n",
        "    print(f'잔액은 {self.__balance:9,d} 입니다.')\n",
        "  \n",
        "  def __str__(self):\n",
        "    return f'계좌:{self.ano}, 주인 : {self.owner}, 잔액:{self.__balance:9,d}'"
      ],
      "execution_count": 102,
      "outputs": []
    },
    {
      "cell_type": "code",
      "metadata": {
        "colab": {
          "base_uri": "https://localhost:8080/"
        },
        "id": "WMNwaLwcaq1x",
        "outputId": "e1b9bb78-20d6-46b8-b0cb-fe6b1d8cdaba"
      },
      "source": [
        "eunjeong = Account('국민은행_5456','서은정', 320000)\n",
        "print(eunjeong)"
      ],
      "execution_count": 103,
      "outputs": [
        {
          "output_type": "stream",
          "text": [
            "계좌:국민은행_5456, 주인 : 서은정, 잔액:  320,000\n"
          ],
          "name": "stdout"
        }
      ]
    },
    {
      "cell_type": "code",
      "metadata": {
        "colab": {
          "base_uri": "https://localhost:8080/"
        },
        "id": "00iMzhGzbUdh",
        "outputId": "656d5da9-95ac-45ba-d2d6-cdd608c71ec9"
      },
      "source": [
        "eunjeong.withdraw(10000)"
      ],
      "execution_count": 104,
      "outputs": [
        {
          "output_type": "stream",
          "text": [
            "잔액은   310,000 입니다.\n"
          ],
          "name": "stdout"
        }
      ]
    },
    {
      "cell_type": "code",
      "metadata": {
        "colab": {
          "base_uri": "https://localhost:8080/"
        },
        "id": "MAT4MNExbYb7",
        "outputId": "bef7f4fe-55de-416b-e22d-6347edc830e6"
      },
      "source": [
        "eunjeong.withdraw(320000)"
      ],
      "execution_count": 94,
      "outputs": [
        {
          "output_type": "stream",
          "text": [
            "출금 불가\n"
          ],
          "name": "stdout"
        }
      ]
    },
    {
      "cell_type": "code",
      "metadata": {
        "colab": {
          "base_uri": "https://localhost:8080/"
        },
        "id": "RP1Ez8rdbncj",
        "outputId": "1c46e784-c92a-439d-917b-0d459b40a4b4"
      },
      "source": [
        "\n",
        "eunjeong.deposit(1000000)"
      ],
      "execution_count": 95,
      "outputs": [
        {
          "output_type": "stream",
          "text": [
            "입금 불가\n"
          ],
          "name": "stdout"
        }
      ]
    },
    {
      "cell_type": "code",
      "metadata": {
        "colab": {
          "base_uri": "https://localhost:8080/"
        },
        "id": "mEITrIv4bsu9",
        "outputId": "8665aa9b-3482-43ff-e2d8-dd88cad8ef0e"
      },
      "source": [
        "eunjeong.deposit(12000)"
      ],
      "execution_count": 74,
      "outputs": [
        {
          "output_type": "stream",
          "text": [
            "잔액은 1026000원 입니다.\n"
          ],
          "name": "stdout"
        }
      ]
    },
    {
      "cell_type": "code",
      "metadata": {
        "colab": {
          "base_uri": "https://localhost:8080/"
        },
        "id": "PRSH1r5_e7Ax",
        "outputId": "d629f880-63c6-44ef-d405-5309c375c3d4"
      },
      "source": [
        "acc = Account('982022','maria',3000000)\n",
        "print(acc)"
      ],
      "execution_count": 107,
      "outputs": [
        {
          "output_type": "stream",
          "text": [
            "계좌:982022, 주인 : maria, 잔액:3,000,000\n"
          ],
          "name": "stdout"
        }
      ]
    },
    {
      "cell_type": "code",
      "metadata": {
        "colab": {
          "base_uri": "https://localhost:8080/"
        },
        "id": "lS6R40yzfDfa",
        "outputId": "f9d8aa3a-bc4e-4405-c5c9-968b5bf0d0b8"
      },
      "source": [
        "acc_list = [eunjeong, acc]\n",
        "for account in acc_list:\n",
        "  print(account)"
      ],
      "execution_count": 116,
      "outputs": [
        {
          "output_type": "stream",
          "text": [
            "계좌:국민은행_5456, 주인 : 서은정, 잔액:  310,000\n",
            "계좌:982022, 주인 : maria, 잔액:3,000,000\n"
          ],
          "name": "stdout"
        }
      ]
    },
    {
      "cell_type": "code",
      "metadata": {
        "colab": {
          "base_uri": "https://localhost:8080/"
        },
        "id": "rSbyF8V6mSXz",
        "outputId": "2a078d05-59c7-45ac-c30d-da465e740bc0"
      },
      "source": [
        "for i in acc_list:\n",
        "  print(i.ano)"
      ],
      "execution_count": 133,
      "outputs": [
        {
          "output_type": "stream",
          "text": [
            "국민은행_5456\n",
            "982022\n"
          ],
          "name": "stdout"
        }
      ]
    },
    {
      "cell_type": "code",
      "metadata": {
        "colab": {
          "base_uri": "https://localhost:8080/"
        },
        "id": "AdLSFl73mtJ-",
        "outputId": "8f6a9412-c585-4091-8318-5f2358709402"
      },
      "source": [
        "type(eunjeong)"
      ],
      "execution_count": 124,
      "outputs": [
        {
          "output_type": "execute_result",
          "data": {
            "text/plain": [
              "__main__.Account"
            ]
          },
          "metadata": {
            "tags": []
          },
          "execution_count": 124
        }
      ]
    },
    {
      "cell_type": "markdown",
      "metadata": {
        "id": "lsm3_gn9ftfx"
      },
      "source": [
        "### 1 : 계좌생성, 2: 계좌목록, 3: 입금, 4: 출금, 5:종료"
      ]
    },
    {
      "cell_type": "code",
      "metadata": {
        "id": "5WJL8qKDtfOh"
      },
      "source": [
        "def check_duplicate(who_acc):\n",
        "  for acc in acc_list:\n",
        "    if who_acc == acc.ano:\n",
        "      return True\n",
        "  return False"
      ],
      "execution_count": 149,
      "outputs": []
    },
    {
      "cell_type": "code",
      "metadata": {
        "id": "uGrm5eg0kA6p"
      },
      "source": [
        "# 사용자로부터 필요한 정보를 입력 받아서 계좌를 생성함\n",
        "def create_account():\n",
        "  while True:\n",
        "    new_acc = int(input('계좌번호>'))\n",
        "    new_own = str(input('성함>'))\n",
        "    if not check_duplicate(who_acc):\n",
        "      print('동일 계좌가 존재합니다')\n",
        "      break\n",
        "  custom = Account(new_acc, new_own, 0)\n",
        "  acc_list.append(custom)"
      ],
      "execution_count": 150,
      "outputs": []
    },
    {
      "cell_type": "code",
      "metadata": {
        "id": "O1MqAsP1kE0o"
      },
      "source": [
        "def deposit_account():\n",
        "  who_acc = int(input('계좌번호>'))\n",
        "  for i in acc_list:\n",
        "    if i.ano == who_acc:\n",
        "      amount = int(input('금액>'))\n",
        "      i.deposit(amount)\n",
        "      return\n",
        "    "
      ],
      "execution_count": 146,
      "outputs": []
    },
    {
      "cell_type": "code",
      "metadata": {
        "id": "ctSL2181kH03"
      },
      "source": [
        "def withdraw_account():\n",
        "  who_acc = int(input('계좌번호>'))\n",
        "  for i in acc_list:\n",
        "    if i.ano == who_acc:\n",
        "      amount = int(input('금액>'))\n",
        "      i.withdraw(amount)\n",
        "      return\n",
        "\n",
        "  "
      ],
      "execution_count": 147,
      "outputs": []
    },
    {
      "cell_type": "code",
      "metadata": {
        "colab": {
          "base_uri": "https://localhost:8080/"
        },
        "id": "i5BXXJ_TfnIy",
        "outputId": "812d7416-f194-43e9-95cc-70b30f47d7db"
      },
      "source": [
        "while True:\n",
        "  menu = int(input('1 : 계좌생성, 2: 계좌목록, 3: 입금, 4: 출금, 5:종료>'))\n",
        "  if menu ==5:\n",
        "    break\n",
        "  if menu == 1:\n",
        "    create_account()\n",
        "  elif menu == 2 :\n",
        "    for account in acc_list:\n",
        "      print(account)\n",
        "  elif menu ==3:\n",
        "    deposit_account()\n",
        "  elif menu ==4:\n",
        "    withdraw_account()\n",
        "  else:\n",
        "    print('잘못된 명령어 입니다.')\n",
        "\n",
        "  print()"
      ],
      "execution_count": 148,
      "outputs": [
        {
          "output_type": "stream",
          "text": [
            "1 : 계좌생성, 2: 계좌목록, 3: 입금, 4: 출금, 5:종료>3\n",
            "계좌번호>12345\n",
            "금액>18282\n",
            "잔액은    18,285원 입니다.\n",
            "\n",
            "1 : 계좌생성, 2: 계좌목록, 3: 입금, 4: 출금, 5:종료>5\n"
          ],
          "name": "stdout"
        }
      ]
    }
  ]
}