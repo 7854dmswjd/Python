{
  "nbformat": 4,
  "nbformat_minor": 0,
  "metadata": {
    "colab": {
      "name": "u16_for반복문.ipynb",
      "provenance": [],
      "collapsed_sections": []
    },
    "kernelspec": {
      "name": "python3",
      "display_name": "Python 3"
    },
    "language_info": {
      "name": "python"
    }
  },
  "cells": [
    {
      "cell_type": "markdown",
      "metadata": {
        "id": "HkgvsT6TtPlc"
      },
      "source": [
        "#Unit 16. for 반복문"
      ]
    },
    {
      "cell_type": "markdown",
      "metadata": {
        "id": "ui8O22y_tPe9"
      },
      "source": [
        "##16.1 for과 range"
      ]
    },
    {
      "cell_type": "code",
      "metadata": {
        "colab": {
          "base_uri": "https://localhost:8080/"
        },
        "id": "C_aqaXQ1tL2q",
        "outputId": "528fcd6d-938c-4393-ace5-f1f935f5599f"
      },
      "source": [
        "for i in range(10):\n",
        "  print(\"Hello,World!\")"
      ],
      "execution_count": null,
      "outputs": [
        {
          "output_type": "stream",
          "text": [
            "Hello,World!\n",
            "Hello,World!\n",
            "Hello,World!\n",
            "Hello,World!\n",
            "Hello,World!\n",
            "Hello,World!\n",
            "Hello,World!\n",
            "Hello,World!\n",
            "Hello,World!\n",
            "Hello,World!\n"
          ],
          "name": "stdout"
        }
      ]
    },
    {
      "cell_type": "code",
      "metadata": {
        "colab": {
          "base_uri": "https://localhost:8080/"
        },
        "id": "4SdIR4N3vTsY",
        "outputId": "79d36b47-38fd-42cf-bd18-70828c1cc8dd"
      },
      "source": [
        "for i in range(10):\n",
        "  print('Hello',i)"
      ],
      "execution_count": 2,
      "outputs": [
        {
          "output_type": "stream",
          "text": [
            "Hello 0\n",
            "Hello 1\n",
            "Hello 2\n",
            "Hello 3\n",
            "Hello 4\n",
            "Hello 5\n",
            "Hello 6\n",
            "Hello 7\n",
            "Hello 8\n",
            "Hello 9\n"
          ],
          "name": "stdout"
        }
      ]
    },
    {
      "cell_type": "code",
      "metadata": {
        "colab": {
          "base_uri": "https://localhost:8080/"
        },
        "id": "cvn5BhKqvccT",
        "outputId": "ef2c0c41-8424-40ce-9669-a3d997b961de"
      },
      "source": [
        "for _ in range(3): # 변수를 사용하지 않을 때는 _를 쓰는 것이 관례! \n",
        "  print(\"Hello\")"
      ],
      "execution_count": 3,
      "outputs": [
        {
          "output_type": "stream",
          "text": [
            "Hello\n",
            "Hello\n",
            "Hello\n"
          ],
          "name": "stdout"
        }
      ]
    },
    {
      "cell_type": "markdown",
      "metadata": {
        "id": "Z6w-hilMx_k_"
      },
      "source": [
        "##16.2 for와 range 응용"
      ]
    },
    {
      "cell_type": "code",
      "metadata": {
        "colab": {
          "base_uri": "https://localhost:8080/"
        },
        "id": "zS-RtppGyDnH",
        "outputId": "bb5450cf-1eb3-48fa-dcf7-3c3cacadd91a"
      },
      "source": [
        "for i in range(6,10):\n",
        "  print('Hello',i)"
      ],
      "execution_count": 4,
      "outputs": [
        {
          "output_type": "stream",
          "text": [
            "Hello 6\n",
            "Hello 7\n",
            "Hello 8\n",
            "Hello 9\n"
          ],
          "name": "stdout"
        }
      ]
    },
    {
      "cell_type": "code",
      "metadata": {
        "colab": {
          "base_uri": "https://localhost:8080/"
        },
        "id": "kHDLKvTEyL7g",
        "outputId": "10061262-650a-47f1-bcf9-c6fca8c18040"
      },
      "source": [
        "for i in range(6,10,2):\n",
        "  print('Hello',i)"
      ],
      "execution_count": 5,
      "outputs": [
        {
          "output_type": "stream",
          "text": [
            "Hello 6\n",
            "Hello 8\n"
          ],
          "name": "stdout"
        }
      ]
    },
    {
      "cell_type": "code",
      "metadata": {
        "colab": {
          "base_uri": "https://localhost:8080/"
        },
        "id": "zBGHmKlpy2oI",
        "outputId": "d722ef8e-5944-434b-b568-ba393346ec61"
      },
      "source": [
        "for i in reversed(range(6,10,2)):\n",
        "  print('Hello',i)"
      ],
      "execution_count": 8,
      "outputs": [
        {
          "output_type": "stream",
          "text": [
            "Hello 8\n",
            "Hello 6\n"
          ],
          "name": "stdout"
        }
      ]
    },
    {
      "cell_type": "code",
      "metadata": {
        "colab": {
          "base_uri": "https://localhost:8080/"
        },
        "id": "DVUDsIcOyQ6V",
        "outputId": "1b6760bf-744f-4fa3-cc15-02af553be420"
      },
      "source": [
        "for i in range(10,0,-2):\n",
        "  print('Hello,World!',i)"
      ],
      "execution_count": 9,
      "outputs": [
        {
          "output_type": "stream",
          "text": [
            "Hello,World! 10\n",
            "Hello,World! 8\n",
            "Hello,World! 6\n",
            "Hello,World! 4\n",
            "Hello,World! 2\n"
          ],
          "name": "stdout"
        }
      ]
    },
    {
      "cell_type": "code",
      "metadata": {
        "colab": {
          "base_uri": "https://localhost:8080/"
        },
        "id": "KuIupB4YzWGv",
        "outputId": "e078036a-21fc-4bfe-8cb5-f38d20164098"
      },
      "source": [
        "for a in range(1,101):\n",
        "  print('Fizz'*(a%3==0) + 'Buzz'*(a%5 == 0) or i, end=' ')\n",
        "  if (a%10 == 0):\n",
        "      print()"
      ],
      "execution_count": 14,
      "outputs": [
        {
          "output_type": "stream",
          "text": [
            "2 2 Fizz 2 Buzz Fizz 2 2 Fizz Buzz \n",
            "2 Fizz 2 2 FizzBuzz 2 2 Fizz 2 Buzz \n",
            "Fizz 2 2 Fizz Buzz 2 Fizz 2 2 FizzBuzz \n",
            "2 2 Fizz 2 Buzz Fizz 2 2 Fizz Buzz \n",
            "2 Fizz 2 2 FizzBuzz 2 2 Fizz 2 Buzz \n",
            "Fizz 2 2 Fizz Buzz 2 Fizz 2 2 FizzBuzz \n",
            "2 2 Fizz 2 Buzz Fizz 2 2 Fizz Buzz \n",
            "2 Fizz 2 2 FizzBuzz 2 2 Fizz 2 Buzz \n",
            "Fizz 2 2 Fizz Buzz 2 Fizz 2 2 FizzBuzz \n",
            "2 2 Fizz 2 Buzz Fizz 2 2 Fizz Buzz \n"
          ],
          "name": "stdout"
        }
      ]
    },
    {
      "cell_type": "markdown",
      "metadata": {
        "id": "r2i490Daz3qo"
      },
      "source": [
        "##16.3 시퀀스(Sequence)객체 반복"
      ]
    },
    {
      "cell_type": "code",
      "metadata": {
        "colab": {
          "base_uri": "https://localhost:8080/"
        },
        "id": "ITdj1aT-z9K-",
        "outputId": "65c3831e-fca5-44ee-88cd-5840526007ae"
      },
      "source": [
        "fruits_list= ['apple','banana','cherry'] # 변수명 list임을 나타내준다.\n",
        "for fruit in fruits_list: # 단수로 받아와서 의미를 더해준다.\n",
        "  print(fruit)"
      ],
      "execution_count": 17,
      "outputs": [
        {
          "output_type": "stream",
          "text": [
            "apple\n",
            "banana\n",
            "cherry\n"
          ],
          "name": "stdout"
        }
      ]
    },
    {
      "cell_type": "code",
      "metadata": {
        "colab": {
          "base_uri": "https://localhost:8080/"
        },
        "id": "T40gifyez032",
        "outputId": "b0b01999-02ea-429c-8a67-fe3dd8c02672"
      },
      "source": [
        "for letter in 'Python':\n",
        "  print(letter, end = ' ')"
      ],
      "execution_count": 19,
      "outputs": [
        {
          "output_type": "stream",
          "text": [
            "P y t h o n "
          ],
          "name": "stdout"
        }
      ]
    },
    {
      "cell_type": "code",
      "metadata": {
        "colab": {
          "base_uri": "https://localhost:8080/"
        },
        "id": "DepqMJjZ3BI0",
        "outputId": "396671e2-1d13-41d0-a07c-8aa9c7cd597a"
      },
      "source": [
        "for letter in reversed('Python'):\n",
        "  print(letter, end = ' ')"
      ],
      "execution_count": 20,
      "outputs": [
        {
          "output_type": "stream",
          "text": [
            "n o h t y P "
          ],
          "name": "stdout"
        }
      ]
    },
    {
      "cell_type": "code",
      "metadata": {
        "colab": {
          "base_uri": "https://localhost:8080/"
        },
        "id": "LVlCquch3Ihq",
        "outputId": "ab3e8e0e-6f45-4cd0-c593-ace2f27b7f7e"
      },
      "source": [
        "for number in (10,20,30):\n",
        "  print(number)"
      ],
      "execution_count": 21,
      "outputs": [
        {
          "output_type": "stream",
          "text": [
            "10\n",
            "20\n",
            "30\n"
          ],
          "name": "stdout"
        }
      ]
    },
    {
      "cell_type": "markdown",
      "metadata": {
        "id": "MThQdGYU3nF_"
      },
      "source": [
        "### Perfect number\n",
        "- 자기 자신을 제외한 약수의 합이 자기 자신과 같은 수\n",
        "- 6의 약수 : 1,2,3,6\n",
        "- 6 = 1,2,3\n",
        "- 10000이하의 자연수 중에서는 4개"
      ]
    },
    {
      "cell_type": "code",
      "metadata": {
        "colab": {
          "base_uri": "https://localhost:8080/"
        },
        "id": "sRXvEIOq3p0I",
        "outputId": "9238fbea-b69c-4b31-b7f4-e52cb35b8735"
      },
      "source": [
        "for i in range(2,10001):\n",
        "  sum_of_num = 0\n",
        "  for k in range(1,i):\n",
        "    if i % k == 0:\n",
        "      sum_of_num += k\n",
        "  if sum_of_num == i:\n",
        "    print(i)"
      ],
      "execution_count": 37,
      "outputs": [
        {
          "output_type": "stream",
          "text": [
            "6\n",
            "28\n",
            "496\n",
            "8128\n"
          ],
          "name": "stdout"
        }
      ]
    },
    {
      "cell_type": "code",
      "metadata": {
        "id": "TdtAQMl83mIH"
      },
      "source": [
        ""
      ],
      "execution_count": null,
      "outputs": []
    }
  ]
}