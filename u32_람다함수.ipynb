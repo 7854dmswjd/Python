{
  "nbformat": 4,
  "nbformat_minor": 0,
  "metadata": {
    "colab": {
      "name": "u32_람다함수.ipynb",
      "provenance": [],
      "authorship_tag": "ABX9TyMsJ/ksDzIBHNgtuaSwuleE",
      "include_colab_link": true
    },
    "kernelspec": {
      "name": "python3",
      "display_name": "Python 3"
    },
    "language_info": {
      "name": "python"
    }
  },
  "cells": [
    {
      "cell_type": "markdown",
      "metadata": {
        "id": "view-in-github",
        "colab_type": "text"
      },
      "source": [
        "<a href=\"https://colab.research.google.com/github/7854dmswjd/Python/blob/main/u32_%EB%9E%8C%EB%8B%A4%ED%95%A8%EC%88%98.ipynb\" target=\"_parent\"><img src=\"https://colab.research.google.com/assets/colab-badge.svg\" alt=\"Open In Colab\"/></a>"
      ]
    },
    {
      "cell_type": "markdown",
      "metadata": {
        "id": "062UZV24g7GC"
      },
      "source": [
        "# Unit 32. 람다 함수 - 익명(Anonymous)함수"
      ]
    },
    {
      "cell_type": "code",
      "metadata": {
        "id": "95oQ1c9Pg07P"
      },
      "source": [
        "def plus_ten(x):\n",
        "  return x+10"
      ],
      "execution_count": 2,
      "outputs": []
    },
    {
      "cell_type": "code",
      "metadata": {
        "colab": {
          "base_uri": "https://localhost:8080/"
        },
        "id": "4O-tcdRlhfFj",
        "outputId": "f46a87cb-ecda-4978-d4ff-6c165ca2e2bc"
      },
      "source": [
        "plus_ten2 = lambda x : x+10\n",
        "plus_ten2(5)"
      ],
      "execution_count": 3,
      "outputs": [
        {
          "output_type": "execute_result",
          "data": {
            "text/plain": [
              "15"
            ]
          },
          "metadata": {
            "tags": []
          },
          "execution_count": 3
        }
      ]
    },
    {
      "cell_type": "code",
      "metadata": {
        "colab": {
          "base_uri": "https://localhost:8080/"
        },
        "id": "dseknxH-ic7O",
        "outputId": "99966dfc-e10b-4381-c2f3-8da58b12f0a9"
      },
      "source": [
        "(lambda x : x+10)(5)"
      ],
      "execution_count": 5,
      "outputs": [
        {
          "output_type": "execute_result",
          "data": {
            "text/plain": [
              "15"
            ]
          },
          "metadata": {
            "tags": []
          },
          "execution_count": 5
        }
      ]
    },
    {
      "cell_type": "code",
      "metadata": {
        "colab": {
          "base_uri": "https://localhost:8080/"
        },
        "id": "Y4TqmhVHipRy",
        "outputId": "e2b3c868-8a9f-4d9f-fdf3-0a8bc8550ef9"
      },
      "source": [
        "list(map(lambda x: int(x)+10, input().split()))"
      ],
      "execution_count": 6,
      "outputs": [
        {
          "output_type": "stream",
          "text": [
            "1\n"
          ],
          "name": "stdout"
        },
        {
          "output_type": "execute_result",
          "data": {
            "text/plain": [
              "[11]"
            ]
          },
          "metadata": {
            "tags": []
          },
          "execution_count": 6
        }
      ]
    },
    {
      "cell_type": "code",
      "metadata": {
        "colab": {
          "base_uri": "https://localhost:8080/"
        },
        "id": "VcSNVJAMjJbA",
        "outputId": "89632cb2-5b22-4bc0-bca7-2baf1e6a6e83"
      },
      "source": [
        "def plus_ten(x):\n",
        "  return int(x)+10\n",
        "list(map(plus_ten, input().split()))"
      ],
      "execution_count": 8,
      "outputs": [
        {
          "output_type": "stream",
          "text": [
            "1 2 3 4 \n"
          ],
          "name": "stdout"
        },
        {
          "output_type": "execute_result",
          "data": {
            "text/plain": [
              "[11, 12, 13, 14]"
            ]
          },
          "metadata": {
            "tags": []
          },
          "execution_count": 8
        }
      ]
    },
    {
      "cell_type": "markdown",
      "metadata": {
        "id": "F9xpu584j6Fa"
      },
      "source": [
        "###제약사항"
      ]
    },
    {
      "cell_type": "code",
      "metadata": {
        "id": "L4yO9iHvj5pN"
      },
      "source": [
        "# 람다함수에서 변수를 만들 수 없음\n",
        "(lambda x : y =10; x+y)(3)"
      ],
      "execution_count": null,
      "outputs": []
    },
    {
      "cell_type": "code",
      "metadata": {
        "colab": {
          "base_uri": "https://localhost:8080/"
        },
        "id": "WTpyAeADkMD9",
        "outputId": "4dfb261b-b2ec-4a62-cb1b-86c2ac7066af"
      },
      "source": [
        "y =10\n",
        "(lambda x : x+y)(5)"
      ],
      "execution_count": 9,
      "outputs": [
        {
          "output_type": "execute_result",
          "data": {
            "text/plain": [
              "15"
            ]
          },
          "metadata": {
            "tags": []
          },
          "execution_count": 9
        }
      ]
    },
    {
      "cell_type": "code",
      "metadata": {
        "id": "DgOXBC7_kVtN"
      },
      "source": [
        "a = 3 ; b = 5; c = a+b # 세미콜론으로 한 줄로!"
      ],
      "execution_count": null,
      "outputs": []
    },
    {
      "cell_type": "markdown",
      "metadata": {
        "id": "a0a-RRJckxCb"
      },
      "source": [
        "### 조건부 함수"
      ]
    },
    {
      "cell_type": "code",
      "metadata": {
        "colab": {
          "base_uri": "https://localhost:8080/"
        },
        "id": "ERF4U5hDkzKe",
        "outputId": "618ee62f-0d0c-461d-aa83-a9de4a3be532"
      },
      "source": [
        "a = list(range(1,11))\n",
        "list(map (lambda x : str(x) if x%3==0 else ''m , a))    # 3의 배수를 조건적으로 받아 들일 때"
      ],
      "execution_count": 15,
      "outputs": [
        {
          "output_type": "execute_result",
          "data": {
            "text/plain": [
              "['', '', '3', '', '', '6', '', '', '9', '']"
            ]
          },
          "metadata": {
            "tags": []
          },
          "execution_count": 15
        }
      ]
    },
    {
      "cell_type": "code",
      "metadata": {
        "id": "_MkgJDfblkgJ"
      },
      "source": [
        "# 리스트 a에서 3의 배수는 문자열로, 5의 배수는 실수로 변환\n",
        "list(map(lambda x :str(x) if x%3==0 else float(x) if x%5 == 0 else x, a)) \n",
        "#람다 표현식에서 if를 사용했으면, 반드시 else를 사용해야한다."
      ],
      "execution_count": null,
      "outputs": []
    },
    {
      "cell_type": "markdown",
      "metadata": {
        "id": "1YiAzn4CnsND"
      },
      "source": [
        "#### map에 여러개의 객체 넣기"
      ]
    },
    {
      "cell_type": "code",
      "metadata": {
        "colab": {
          "base_uri": "https://localhost:8080/"
        },
        "id": "8Jv-zex3nrhe",
        "outputId": "af5c087b-4e94-4afa-b1ec-02e8749cd37a"
      },
      "source": [
        "a = [1,2,3,4,5]\n",
        "b = [6,7,8,9,10]\n",
        "list(map(lambda x ,y : x*y, a, b))"
      ],
      "execution_count": 17,
      "outputs": [
        {
          "output_type": "execute_result",
          "data": {
            "text/plain": [
              "[6, 14, 24, 36, 50]"
            ]
          },
          "metadata": {
            "tags": []
          },
          "execution_count": 17
        }
      ]
    },
    {
      "cell_type": "markdown",
      "metadata": {
        "id": "-dkOogkvoPla"
      },
      "source": [
        "####filter"
      ]
    },
    {
      "cell_type": "code",
      "metadata": {
        "colab": {
          "base_uri": "https://localhost:8080/"
        },
        "id": "gWO0QLnPmOab",
        "outputId": "7c696cf9-90d8-438a-b592-b45c954d5a38"
      },
      "source": [
        "a = list(range(1,11))\n",
        "list(filter(lambda x : 4 <= x <8,a))"
      ],
      "execution_count": 18,
      "outputs": [
        {
          "output_type": "execute_result",
          "data": {
            "text/plain": [
              "[4, 5, 6, 7]"
            ]
          },
          "metadata": {
            "tags": []
          },
          "execution_count": 18
        }
      ]
    },
    {
      "cell_type": "code",
      "metadata": {
        "id": "0WH4LmmNlgGk"
      },
      "source": [
        ""
      ],
      "execution_count": null,
      "outputs": []
    }
  ]
}